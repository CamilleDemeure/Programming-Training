{
 "cells": [
  {
   "cell_type": "markdown",
   "metadata": {},
   "source": [
    "You are given an array of integers heights where heights[i] represents the height of a bar. The width of each bar is 1.\n",
    "\n",
    "Return the area of the largest rectangle that can be formed among the bars.\n",
    "\n",
    "Note: This chart is known as a histogram.\n",
    "\n",
    "\n",
    "### Example 1:\n",
    "\n",
    "Input: heights = [7,1,7,2,2,4]\n",
    "\n",
    "Output: 8\n",
    "\n",
    "\n",
    "### Example 2:\n",
    "\n",
    "Input: heights = [1,3,7]\n",
    "\n",
    "Output: 7"
   ]
  },
  {
   "cell_type": "code",
   "execution_count": 3,
   "metadata": {},
   "outputs": [],
   "source": [
    "def largestRectangleArea(heights: list[int]) -> int:\n",
    "    maxArea = 0\n",
    "    stack = []\n",
    "\n",
    "    for i, h in enumerate(heights):\n",
    "        start = i\n",
    "        while stack and stack[-1][1] > h:\n",
    "            index, height = stack.pop()\n",
    "            maxArea = max(maxArea, height * (i - index))\n",
    "            start = index\n",
    "        stack.append((start, h))\n",
    "\n",
    "    for i, h in stack:\n",
    "        maxArea = max(maxArea, h * (len(heights) - i))\n",
    "    \n",
    "    return maxArea"
   ]
  },
  {
   "cell_type": "code",
   "execution_count": 6,
   "metadata": {},
   "outputs": [
    {
     "data": {
      "text/plain": [
       "8"
      ]
     },
     "execution_count": 6,
     "metadata": {},
     "output_type": "execute_result"
    }
   ],
   "source": [
    "largestRectangleArea([7, 1, 7, 2, 2, 4])"
   ]
  },
  {
   "cell_type": "code",
   "execution_count": 7,
   "metadata": {},
   "outputs": [
    {
     "data": {
      "text/plain": [
       "7"
      ]
     },
     "execution_count": 7,
     "metadata": {},
     "output_type": "execute_result"
    }
   ],
   "source": [
    "largestRectangleArea([1, 3, 7])"
   ]
  }
 ],
 "metadata": {
  "kernelspec": {
   "display_name": "base",
   "language": "python",
   "name": "python3"
  },
  "language_info": {
   "codemirror_mode": {
    "name": "ipython",
    "version": 3
   },
   "file_extension": ".py",
   "mimetype": "text/x-python",
   "name": "python",
   "nbconvert_exporter": "python",
   "pygments_lexer": "ipython3",
   "version": "3.11.4"
  }
 },
 "nbformat": 4,
 "nbformat_minor": 2
}
