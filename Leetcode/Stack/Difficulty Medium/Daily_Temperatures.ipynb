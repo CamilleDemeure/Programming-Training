{
 "cells": [
  {
   "cell_type": "markdown",
   "metadata": {},
   "source": [
    "You are given an array of integers temperatures where temperatures[i] represents the daily temperatures on the ith day.\n",
    "\n",
    "Return an array result where result[i] is the number of days after the ith day before a warmer temperature appears on a future day. If there is no day in the future where a warmer temperature will appear for the ith day, set result[i] to 0 instead.\n",
    "\n",
    "\n",
    "### Example 1:\n",
    "\n",
    "Input: temperatures = [30,38,30,36,35,40,28]\n",
    "\n",
    "Output: [1,4,1,2,1,0,0]\n",
    "\n",
    "\n",
    "### Example 2:\n",
    "\n",
    "Input: temperatures = [22,21,20]\n",
    "\n",
    "Output: [0,0,0]"
   ]
  },
  {
   "cell_type": "code",
   "execution_count": 1,
   "metadata": {},
   "outputs": [],
   "source": [
    "def dailyTemperatures(temperatures: list[int]) -> list[int]:\n",
    "    res = [0] * len(temperatures)\n",
    "    stack = [] # pair: [temperatures, index]\n",
    "\n",
    "    for i, t in enumerate(temperatures):\n",
    "        while stack and t > stack[-1][0]:\n",
    "            stackT, stackInd = stack.pop()\n",
    "            res[stackInd] = i - stackInd\n",
    "        stack.append((t, i))\n",
    "    return res"
   ]
  },
  {
   "cell_type": "code",
   "execution_count": 2,
   "metadata": {},
   "outputs": [
    {
     "data": {
      "text/plain": [
       "[1, 4, 1, 2, 1, 0, 0]"
      ]
     },
     "execution_count": 2,
     "metadata": {},
     "output_type": "execute_result"
    }
   ],
   "source": [
    "dailyTemperatures([30, 38, 30, 36, 35, 40, 28])"
   ]
  },
  {
   "cell_type": "code",
   "execution_count": 3,
   "metadata": {},
   "outputs": [
    {
     "data": {
      "text/plain": [
       "[0, 0, 0]"
      ]
     },
     "execution_count": 3,
     "metadata": {},
     "output_type": "execute_result"
    }
   ],
   "source": [
    "dailyTemperatures([22, 21, 20])"
   ]
  }
 ],
 "metadata": {
  "kernelspec": {
   "display_name": "base",
   "language": "python",
   "name": "python3"
  },
  "language_info": {
   "codemirror_mode": {
    "name": "ipython",
    "version": 3
   },
   "file_extension": ".py",
   "mimetype": "text/x-python",
   "name": "python",
   "nbconvert_exporter": "python",
   "pygments_lexer": "ipython3",
   "version": "3.11.4"
  }
 },
 "nbformat": 4,
 "nbformat_minor": 2
}
