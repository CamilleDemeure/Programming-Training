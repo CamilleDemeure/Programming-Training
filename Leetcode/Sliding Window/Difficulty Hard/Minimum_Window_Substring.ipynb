{
 "cells": [
  {
   "cell_type": "markdown",
   "id": "330dcaf3",
   "metadata": {},
   "source": [
    "Given two strings s and t, return the shortest substring of s such that every character in t, including duplicates, is present in the substring. If such a substring does not exist, return an empty string \"\".\n",
    "\n",
    "\n",
    "You may assume that the correct output is always unique.\n",
    "\n",
    "\n",
    "### Example 1:\n",
    "\n",
    "Input: s = \"OUZODYXAZV\", t = \"XYZ\"\n",
    "\n",
    "Output: \"YXAZ\"\n",
    "Explanation: \"YXAZ\" is the shortest substring that includes \"X\", \"Y\", and \"Z\" from string t.\n",
    "\n",
    "### Example 2:\n",
    "\n",
    "Input: s = \"xyz\", t = \"xyz\"\n",
    "\n",
    "Output: \"xyz\"\n",
    "\n",
    "### Example 3:\n",
    "\n",
    "Input: s = \"x\", t = \"xy\"\n",
    "\n",
    "Output: \"\""
   ]
  },
  {
   "cell_type": "code",
   "execution_count": 5,
   "id": "9d9d5be9",
   "metadata": {},
   "outputs": [],
   "source": [
    "def minWindow(s: str, t: str) -> str:\n",
    "    if t == \"\":\n",
    "        return \"\"\n",
    "\n",
    "    countT, countWindow = {}, {}\n",
    "    for c in t:\n",
    "        countT[c] = 1 + countT.get(c, 0)\n",
    "\n",
    "    have, need = 0, len(countT)\n",
    "    res, resLen = [-1, -1], float(\"infinity\")\n",
    "    l = 0\n",
    "    for r in range(len(s)):\n",
    "        c = s[r]\n",
    "        countWindow[c] = 1 + countWindow.get(c, 0)\n",
    "\n",
    "        if c in countT and countWindow[c] == countT[c]:\n",
    "            have += 1\n",
    "\n",
    "        while have == need:\n",
    "            if (r - l + 1) < resLen:\n",
    "                res = [l, r]\n",
    "                resLen = r - l + 1\n",
    "                \n",
    "            countWindow[s[l]] -= 1\n",
    "            if s[l] in countT and countWindow[s[l]] < countT[s[l]]:\n",
    "                have -= 1\n",
    "            l += 1\n",
    "    l, r = res\n",
    "    return s[l : r + 1] if resLen != float(\"infinity\") else \"\""
   ]
  },
  {
   "cell_type": "code",
   "execution_count": 6,
   "id": "bd1c7265",
   "metadata": {},
   "outputs": [
    {
     "data": {
      "text/plain": [
       "'YXAZ'"
      ]
     },
     "execution_count": 6,
     "metadata": {},
     "output_type": "execute_result"
    }
   ],
   "source": [
    "minWindow(s = \"OUZODYXAZV\", t = \"XYZ\")"
   ]
  },
  {
   "cell_type": "code",
   "execution_count": 7,
   "id": "a5c8b327",
   "metadata": {},
   "outputs": [
    {
     "data": {
      "text/plain": [
       "'xyz'"
      ]
     },
     "execution_count": 7,
     "metadata": {},
     "output_type": "execute_result"
    }
   ],
   "source": [
    "minWindow(s = \"xyz\", t = \"xyz\")"
   ]
  },
  {
   "cell_type": "code",
   "execution_count": 8,
   "id": "51367f90",
   "metadata": {},
   "outputs": [
    {
     "data": {
      "text/plain": [
       "''"
      ]
     },
     "execution_count": 8,
     "metadata": {},
     "output_type": "execute_result"
    }
   ],
   "source": [
    "minWindow(s = \"x\", t = \"xy\")"
   ]
  }
 ],
 "metadata": {
  "kernelspec": {
   "display_name": "base",
   "language": "python",
   "name": "python3"
  },
  "language_info": {
   "codemirror_mode": {
    "name": "ipython",
    "version": 3
   },
   "file_extension": ".py",
   "mimetype": "text/x-python",
   "name": "python",
   "nbconvert_exporter": "python",
   "pygments_lexer": "ipython3",
   "version": "3.11.4"
  }
 },
 "nbformat": 4,
 "nbformat_minor": 5
}
