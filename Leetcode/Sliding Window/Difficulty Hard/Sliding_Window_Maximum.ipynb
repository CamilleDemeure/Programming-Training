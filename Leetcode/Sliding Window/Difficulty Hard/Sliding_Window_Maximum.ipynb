{
 "cells": [
  {
   "cell_type": "markdown",
   "id": "15709a0b",
   "metadata": {},
   "source": [
    "You are given an array of integers nums and an integer k. There is a sliding window of size k that starts at the left edge of the array. The window slides one position to the right until it reaches the right edge of the array.\n",
    "\n",
    "Return a list that contains the maximum element in the window at each step.\n",
    "\n",
    "### Example 1:\n",
    "\n",
    "Input: nums = [1,2,1,0,4,2,6], k = 3\n",
    "\n",
    "Output: [2,2,4,4,6]\n",
    "\n",
    "Explanation: \n",
    "\n",
    "Window position |           Max\n",
    "\n",
    "\n",
    "[1  2  1] 0  4  2  6        | 2\n",
    "\n",
    " 1 [2  1  0] 4  2  6        | 2\n",
    "\n",
    " 1  2 [1  0  4] 2  6        | 4\n",
    "\n",
    " 1  2  1 [0  4  2] 6        | 4\n",
    "\n",
    " 1  2  1  0 [4  2  6]       | 6\n"
   ]
  },
  {
   "cell_type": "code",
   "execution_count": null,
   "id": "c5ba7470",
   "metadata": {},
   "outputs": [],
   "source": [
    "from collections import deque\n",
    "\n",
    "def maxSlidingWindow(nums: list[int], k: int) -> list[int]:\n",
    "    output = []\n",
    "    q = deque()\n",
    "    l = r = 0\n",
    "\n",
    "    while r < len(nums):\n",
    "        while q and nums[q[-1]] < nums[r]:\n",
    "            q.pop()\n",
    "        q.append(r)\n",
    "\n",
    "        if l > q[0]:\n",
    "            q.popleft()\n",
    "\n",
    "        if (r + 1) >= k:\n",
    "            output.append(nums[q[0]])\n",
    "            l += 1\n",
    "        r += 1\n",
    "\n",
    "    return output"
   ]
  },
  {
   "cell_type": "code",
   "execution_count": 4,
   "id": "8153d40e",
   "metadata": {},
   "outputs": [
    {
     "data": {
      "text/plain": [
       "[2, 2, 4, 4, 6]"
      ]
     },
     "execution_count": 4,
     "metadata": {},
     "output_type": "execute_result"
    }
   ],
   "source": [
    "maxSlidingWindow(nums = [1,2,1,0,4,2,6], k = 3)"
   ]
  }
 ],
 "metadata": {
  "kernelspec": {
   "display_name": "base",
   "language": "python",
   "name": "python3"
  },
  "language_info": {
   "codemirror_mode": {
    "name": "ipython",
    "version": 3
   },
   "file_extension": ".py",
   "mimetype": "text/x-python",
   "name": "python",
   "nbconvert_exporter": "python",
   "pygments_lexer": "ipython3",
   "version": "3.11.4"
  }
 },
 "nbformat": 4,
 "nbformat_minor": 5
}
