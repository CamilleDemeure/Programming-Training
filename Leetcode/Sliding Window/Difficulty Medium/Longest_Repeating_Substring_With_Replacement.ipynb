{
 "cells": [
  {
   "cell_type": "markdown",
   "metadata": {},
   "source": [
    "You are given a string s consisting of only uppercase english characters and an integer k. You can choose up to k characters of the string and replace them with any other uppercase English character.\n",
    "\n",
    "After performing at most k replacements, return the length of the longest substring which contains only one distinct character.\n",
    "\n",
    "\n",
    "### Example 1:\n",
    "\n",
    "Input: s = \"XYYX\", k = 2\n",
    "\n",
    "Output: 4\n",
    "\n",
    "#### Explanation:\n",
    "\n",
    "Either replace the 'X's with 'Y's, or replace the 'Y's with 'X's.\n",
    "\n",
    "\n",
    "### Example 2:\n",
    "\n",
    "Input: s = \"AAABABB\", k = 1\n",
    "\n",
    "Output: 5"
   ]
  },
  {
   "cell_type": "code",
   "execution_count": 2,
   "metadata": {},
   "outputs": [],
   "source": [
    "def characterReplacement(s: str, k: int) -> int:\n",
    "    count = {}\n",
    "    res = 0\n",
    "\n",
    "    l = 0\n",
    "    maxf = 0\n",
    "    for r in range(len(s)):\n",
    "        count[s[r]] = 1 + count.get(s[r], 0)\n",
    "        maxf = max(maxf, count[s[r]])\n",
    "\n",
    "        while (r - l + 1) - maxf > k:\n",
    "            count[s[l]] -= 1\n",
    "            l += 1\n",
    "        res = max(res, r - l + 1)\n",
    "\n",
    "    return res"
   ]
  },
  {
   "cell_type": "code",
   "execution_count": null,
   "metadata": {},
   "outputs": [
    {
     "data": {
      "text/plain": [
       "4"
      ]
     },
     "execution_count": 3,
     "metadata": {},
     "output_type": "execute_result"
    }
   ],
   "source": [
    "s = \"xyyx\"\n",
    "k = 2\n",
    "\n",
    "characterReplacement(s, k)"
   ]
  },
  {
   "cell_type": "code",
   "execution_count": 4,
   "metadata": {},
   "outputs": [
    {
     "data": {
      "text/plain": [
       "5"
      ]
     },
     "execution_count": 4,
     "metadata": {},
     "output_type": "execute_result"
    }
   ],
   "source": [
    "s = \"AAABABB\"\n",
    "k = 1\n",
    "\n",
    "characterReplacement(s, k)"
   ]
  }
 ],
 "metadata": {
  "kernelspec": {
   "display_name": "base",
   "language": "python",
   "name": "python3"
  },
  "language_info": {
   "codemirror_mode": {
    "name": "ipython",
    "version": 3
   },
   "file_extension": ".py",
   "mimetype": "text/x-python",
   "name": "python",
   "nbconvert_exporter": "python",
   "pygments_lexer": "ipython3",
   "version": "3.11.4"
  }
 },
 "nbformat": 4,
 "nbformat_minor": 2
}
