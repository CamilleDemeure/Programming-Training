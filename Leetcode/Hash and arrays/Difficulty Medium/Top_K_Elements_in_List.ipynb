{
 "cells": [
  {
   "cell_type": "markdown",
   "metadata": {},
   "source": [
    "Given an integer array nums and an integer k, return the k most frequent elements within the array.\n",
    "\n",
    "The test cases are generated such that the answer is always unique.\n",
    "\n",
    "You may return the output in any order.\n",
    "\n",
    "\n",
    "### Example 1:\n",
    "\n",
    "Input: nums = [1,2,2,3,3,3], k = 2\n",
    "\n",
    "Output: [2,3]\n",
    "\n",
    "\n",
    "### Example 2:\n",
    "\n",
    "Input: nums = [7,7], k = 1\n",
    "\n",
    "Output: [7]"
   ]
  },
  {
   "cell_type": "markdown",
   "metadata": {},
   "source": [
    "# Remark:\n",
    "\n",
    "We will use in this program the heapq module and the heap queue structure. It is helpful because when we pop an element, it is always the smallest one that get popped. Whenever elements are pushed or popped, heap structure is maintained.\n"
   ]
  },
  {
   "cell_type": "code",
   "execution_count": 1,
   "metadata": {},
   "outputs": [],
   "source": [
    "import heapq\n",
    "\n",
    "def topKFrequent(nums: list[int], k: int) -> list[int]:\n",
    "    \n",
    "    # we use the dictionnary structure to count the occurence\n",
    "    # of each number in nums\n",
    "    count = {}\n",
    "    for num in nums:\n",
    "        count[num] = 1 + count.get(num, 0)\n",
    "\n",
    "    heap=[]\n",
    "    for num in count.keys(): # add each element and its count in the heap\n",
    "        heapq.heappush(heap, (count[num], num))\n",
    "    if len(heap)>k: # keep the K most frequent\n",
    "        heapq.heappop(heap)\n",
    "\n",
    "    # we extract the elements from the queue\n",
    "    res = []\n",
    "    for i in range(k):\n",
    "        res.append(heapq.heappop(heap)[1])\n",
    "\n",
    "    return res"
   ]
  },
  {
   "cell_type": "code",
   "execution_count": 2,
   "metadata": {},
   "outputs": [
    {
     "data": {
      "text/plain": [
       "[2, 3]"
      ]
     },
     "execution_count": 2,
     "metadata": {},
     "output_type": "execute_result"
    }
   ],
   "source": [
    "topKFrequent(nums = [1,2,2,3,3,3], k = 2)"
   ]
  },
  {
   "cell_type": "code",
   "execution_count": 3,
   "metadata": {},
   "outputs": [
    {
     "data": {
      "text/plain": [
       "[7]"
      ]
     },
     "execution_count": 3,
     "metadata": {},
     "output_type": "execute_result"
    }
   ],
   "source": [
    "topKFrequent(nums = [7,7], k = 1)"
   ]
  }
 ],
 "metadata": {
  "kernelspec": {
   "display_name": "base",
   "language": "python",
   "name": "python3"
  },
  "language_info": {
   "codemirror_mode": {
    "name": "ipython",
    "version": 3
   },
   "file_extension": ".py",
   "mimetype": "text/x-python",
   "name": "python",
   "nbconvert_exporter": "python",
   "pygments_lexer": "ipython3",
   "version": "3.11.4"
  }
 },
 "nbformat": 4,
 "nbformat_minor": 2
}
