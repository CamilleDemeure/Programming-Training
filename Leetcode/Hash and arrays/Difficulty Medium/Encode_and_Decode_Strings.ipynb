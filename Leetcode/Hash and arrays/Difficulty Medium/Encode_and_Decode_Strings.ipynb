{
 "cells": [
  {
   "cell_type": "markdown",
   "metadata": {},
   "source": [
    "Design an algorithm to encode a list of strings to a single string. The encoded string is then decoded back to the original list of strings.\n",
    "\n",
    "Please implement encode and decode\n",
    "\n",
    "### Example 1:\n",
    "\n",
    "Input: [\"neet\",\"code\",\"love\",\"you\"]\n",
    "\n",
    "Output:[\"neet\",\"code\",\"love\",\"you\"]\n",
    "\n",
    "\n",
    "### Example 2:\n",
    "\n",
    "Input: [\"we\",\"say\",\":\",\"yes\"]\n",
    "\n",
    "Output: [\"we\",\"say\",\":\",\"yes\"]"
   ]
  },
  {
   "cell_type": "code",
   "execution_count": 5,
   "metadata": {},
   "outputs": [],
   "source": [
    "def encode(strs: list[str]) -> str:\n",
    "    \"\"\"encode the list by writing the each word\n",
    "    preceded with its length and #\"\"\"\n",
    "    res = \"\"\n",
    "    for i in strs:\n",
    "        res += str(len(i)) + \"#\" + i \n",
    "    return res"
   ]
  },
  {
   "cell_type": "code",
   "execution_count": 6,
   "metadata": {},
   "outputs": [],
   "source": [
    "def decode(s: str) -> list[str]:\n",
    "    \"\"\"decode the str with the previous encode function\"\"\"\n",
    "    res = []\n",
    "    i = 0\n",
    "\n",
    "    while i < len(s):\n",
    "        j = i\n",
    "        while s[j] != '#': # get the length of the word to decode\n",
    "            j += 1\n",
    "        length = int(s[i:j])\n",
    "        i = j + 1\n",
    "        j = i + length\n",
    "        res.append(s[i:j]) # extract the word\n",
    "        i = j\n",
    "    \n",
    "    return res"
   ]
  },
  {
   "cell_type": "code",
   "execution_count": 7,
   "metadata": {},
   "outputs": [
    {
     "name": "stdout",
     "output_type": "stream",
     "text": [
      "4#neet4#code4#love3#you\n",
      "['neet', 'code', 'love', 'you']\n"
     ]
    }
   ],
   "source": [
    "print(encode([\"neet\",\"code\",\"love\",\"you\"]))\n",
    "print(decode(encode([\"neet\",\"code\",\"love\",\"you\"])))"
   ]
  },
  {
   "cell_type": "code",
   "execution_count": 8,
   "metadata": {},
   "outputs": [
    {
     "name": "stdout",
     "output_type": "stream",
     "text": [
      "2#we3#say1#:3#yes\n",
      "['we', 'say', ':', 'yes']\n"
     ]
    }
   ],
   "source": [
    "print(encode([\"we\",\"say\",\":\",\"yes\"]))\n",
    "print(decode(encode([\"we\",\"say\",\":\",\"yes\"])))"
   ]
  }
 ],
 "metadata": {
  "kernelspec": {
   "display_name": "base",
   "language": "python",
   "name": "python3"
  },
  "language_info": {
   "codemirror_mode": {
    "name": "ipython",
    "version": 3
   },
   "file_extension": ".py",
   "mimetype": "text/x-python",
   "name": "python",
   "nbconvert_exporter": "python",
   "pygments_lexer": "ipython3",
   "version": "3.11.4"
  }
 },
 "nbformat": 4,
 "nbformat_minor": 2
}
