{
 "cells": [
  {
   "cell_type": "markdown",
   "metadata": {},
   "source": [
    "Implement a time-based key-value data structure that supports:\n",
    "\n",
    "Storing multiple values for the same key at specified time stamps\n",
    "\n",
    "Retrieving the key's value at a specified timestamp\n",
    "\n",
    "\n",
    "Implement the TimeMap class:\n",
    "\n",
    "- TimeMap() Initializes the object.\n",
    "\n",
    "- void set(String key, String value, int timestamp) stores the key with the value value at the given time timestamp.\n",
    "\n",
    "- String get(String key, int timestamp) returns the most recent value of key if set was previously called on it and the most recent timestamp for that key prev_timestamp is less than or equal to the given timestamp (prev_timestamp <= timestamp). If there are no values, it returns \"\".\n",
    "\n",
    "\n",
    "Note: For all calls to set, the timestamps are in strictly increasing order."
   ]
  },
  {
   "cell_type": "markdown",
   "metadata": {},
   "source": [
    "### Example 1:\n",
    "\n",
    "Input:\n",
    "\n",
    "[\"TimeMap\", \"set\", [\"alice\", \"happy\", 1], \"get\", [\"alice\", 1], \"get\", [\"alice\", 2], \"set\", [\"alice\", \"sad\", 3], \"get\", [\"alice\", 3]]\n",
    "\n",
    "Output:\n",
    "\n",
    "[null, null, \"happy\", \"happy\", null, \"sad\"]\n",
    "\n",
    "\n",
    "#### Explanation:\n",
    "\n",
    "TimeMap timeMap = new TimeMap();\n",
    "\n",
    "timeMap.set(\"alice\", \"happy\", 1);  // store the key \n",
    "\"alice\" and value \"happy\" along with timestamp = 1.\n",
    "\n",
    "timeMap.get(\"alice\", 1);           // return \"happy\"\n",
    "\n",
    "timeMap.get(\"alice\", 2);           // return \"happy\", there is no value stored for timestamp 2, thus we return the value at timestamp 1.\n",
    "\n",
    "timeMap.set(\"alice\", \"sad\", 3);    // store the key \"alice\" and value \"sad\" along with timestamp = 3.\n",
    "\n",
    "timeMap.get(\"alice\", 3);           // return \"sad\""
   ]
  },
  {
   "cell_type": "code",
   "execution_count": 20,
   "metadata": {},
   "outputs": [],
   "source": [
    "class TimeMap:\n",
    "    def __init__(self):\n",
    "        self.keyStore = {} # key: list of [val, timestamp]\n",
    "\n",
    "    def set(self, key: str, value: str, timestamp: int) -> None:\n",
    "        if key not in self.keyStore:\n",
    "            self.keyStore[key] = []\n",
    "        self.keyStore[key].append([value, timestamp])\n",
    "\n",
    "    def get(self, key: str, timestamp: int) -> str:\n",
    "        res, values = \"\", self.keyStore.get(key, [])\n",
    "        l, r = 0, len(values) - 1\n",
    "\n",
    "        while l <= r:\n",
    "            m = (l + r) // 2\n",
    "            if values[m][1] <= timestamp:\n",
    "                res = values[m][0]\n",
    "                l = m + 1\n",
    "            else:\n",
    "                r = m - 1\n",
    "        return res"
   ]
  },
  {
   "cell_type": "code",
   "execution_count": 21,
   "metadata": {},
   "outputs": [
    {
     "data": {
      "text/plain": [
       "{}"
      ]
     },
     "execution_count": 21,
     "metadata": {},
     "output_type": "execute_result"
    }
   ],
   "source": [
    "timeMap = TimeMap()\n",
    "\n",
    "timeMap.keyStore"
   ]
  },
  {
   "cell_type": "code",
   "execution_count": 22,
   "metadata": {},
   "outputs": [
    {
     "data": {
      "text/plain": [
       "{'alice': [['happy', 1]]}"
      ]
     },
     "execution_count": 22,
     "metadata": {},
     "output_type": "execute_result"
    }
   ],
   "source": [
    "timeMap.set(\"alice\", \"happy\", 1)\n",
    "\n",
    "timeMap.keyStore"
   ]
  },
  {
   "cell_type": "code",
   "execution_count": 23,
   "metadata": {},
   "outputs": [
    {
     "data": {
      "text/plain": [
       "{'alice': [['happy', 1]]}"
      ]
     },
     "execution_count": 23,
     "metadata": {},
     "output_type": "execute_result"
    }
   ],
   "source": [
    "timeMap.get(\"alice\", 1)\n",
    "\n",
    "timeMap.keyStore"
   ]
  },
  {
   "cell_type": "code",
   "execution_count": 24,
   "metadata": {},
   "outputs": [
    {
     "data": {
      "text/plain": [
       "{'alice': [['happy', 1]]}"
      ]
     },
     "execution_count": 24,
     "metadata": {},
     "output_type": "execute_result"
    }
   ],
   "source": [
    "timeMap.get(\"alice\", 2)\n",
    "\n",
    "timeMap.keyStore"
   ]
  },
  {
   "cell_type": "code",
   "execution_count": 25,
   "metadata": {},
   "outputs": [
    {
     "data": {
      "text/plain": [
       "{'alice': [['happy', 1], ['sad', 3]]}"
      ]
     },
     "execution_count": 25,
     "metadata": {},
     "output_type": "execute_result"
    }
   ],
   "source": [
    "timeMap.set(\"alice\", \"sad\", 3)\n",
    "\n",
    "timeMap.keyStore"
   ]
  },
  {
   "cell_type": "code",
   "execution_count": 26,
   "metadata": {},
   "outputs": [
    {
     "data": {
      "text/plain": [
       "{'alice': [['happy', 1], ['sad', 3]]}"
      ]
     },
     "execution_count": 26,
     "metadata": {},
     "output_type": "execute_result"
    }
   ],
   "source": [
    "timeMap.get(\"alice\", 3)\n",
    "\n",
    "timeMap.keyStore"
   ]
  }
 ],
 "metadata": {
  "kernelspec": {
   "display_name": "base",
   "language": "python",
   "name": "python3"
  },
  "language_info": {
   "codemirror_mode": {
    "name": "ipython",
    "version": 3
   },
   "file_extension": ".py",
   "mimetype": "text/x-python",
   "name": "python",
   "nbconvert_exporter": "python",
   "pygments_lexer": "ipython3",
   "version": "3.11.4"
  }
 },
 "nbformat": 4,
 "nbformat_minor": 2
}
