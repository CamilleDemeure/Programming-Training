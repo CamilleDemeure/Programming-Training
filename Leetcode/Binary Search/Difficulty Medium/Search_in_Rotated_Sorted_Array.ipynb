{
 "cells": [
  {
   "cell_type": "markdown",
   "metadata": {},
   "source": [
    "You are given an array of length n which was originally sorted in ascending order. It has now been rotated between 1 and n times.\n",
    "\n",
    "For example, the array nums = [1,2,3,4,5,6] might become:\n",
    "\n",
    "[3,4,5,6,1,2] if it was rotated 4 times.\n",
    "\n",
    "[1,2,3,4,5,6] if it was rotated 6 times.\n",
    "\n",
    "Given the rotated sorted array nums and an integer target, return the index of target within nums, or -1 if it is not present.\n",
    "\n",
    "You may assume all elements in the sorted rotated array nums are unique,\n",
    "\n",
    "Can you write an algorithm that runs in O(log n) time?\n",
    "\n",
    "\n",
    "### Example 1:\n",
    "\n",
    "Input: nums = [3,4,5,6,1,2], target = 1\n",
    "\n",
    "Output: 4\n",
    "\n",
    "\n",
    "### Example 2:\n",
    "\n",
    "Input: nums = [3,5,6,0,1,2], target = 4\n",
    "\n",
    "Output: -1"
   ]
  },
  {
   "cell_type": "code",
   "execution_count": 1,
   "metadata": {},
   "outputs": [],
   "source": [
    "def search(nums: list[int], target: int) -> int:\n",
    "    l, r = 0, len(nums) - 1\n",
    "\n",
    "    while l <= r:\n",
    "        mid = (l + r) // 2\n",
    "        if target == nums[mid]:\n",
    "            return mid\n",
    "        \n",
    "        if nums[l] <= nums[mid]:\n",
    "            if target > nums[mid] or target < nums[l]:\n",
    "                l = mid + 1\n",
    "            else:\n",
    "                r = mid - 1\n",
    "\n",
    "        else:\n",
    "            if target < nums[mid] or target > nums[r]:\n",
    "                r = mid - 1\n",
    "            else:\n",
    "                l = mid + 1\n",
    "    \n",
    "    return -1"
   ]
  },
  {
   "cell_type": "code",
   "execution_count": 2,
   "metadata": {},
   "outputs": [
    {
     "data": {
      "text/plain": [
       "4"
      ]
     },
     "execution_count": 2,
     "metadata": {},
     "output_type": "execute_result"
    }
   ],
   "source": [
    "nums = [3, 4, 5, 6, 1, 2]\n",
    "target = 1\n",
    "\n",
    "search(nums, target)"
   ]
  },
  {
   "cell_type": "code",
   "execution_count": 3,
   "metadata": {},
   "outputs": [
    {
     "data": {
      "text/plain": [
       "-1"
      ]
     },
     "execution_count": 3,
     "metadata": {},
     "output_type": "execute_result"
    }
   ],
   "source": [
    "nums = [3, 5, 6, 0, 1, 2]\n",
    "target = 4\n",
    "\n",
    "search(nums, target)"
   ]
  }
 ],
 "metadata": {
  "kernelspec": {
   "display_name": "base",
   "language": "python",
   "name": "python3"
  },
  "language_info": {
   "codemirror_mode": {
    "name": "ipython",
    "version": 3
   },
   "file_extension": ".py",
   "mimetype": "text/x-python",
   "name": "python",
   "nbconvert_exporter": "python",
   "pygments_lexer": "ipython3",
   "version": "3.11.4"
  }
 },
 "nbformat": 4,
 "nbformat_minor": 2
}
