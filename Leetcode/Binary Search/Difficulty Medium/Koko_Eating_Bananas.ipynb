{
 "cells": [
  {
   "cell_type": "markdown",
   "metadata": {},
   "source": [
    "You are given an integer array piles where piles[i] is the number of bananas in the ith pile. You are also given an integer h, which represents the number of hours you have to eat all the bananas.\n",
    "\n",
    "You may decide your bananas-per-hour eating rate of k. Each hour, you may choose a pile of bananas and eats k bananas from that pile. If the pile has less than k bananas, you may finish eating the pile but you can not eat from another pile in the same hour.\n",
    "\n",
    "Return the minimum integer k such that you can eat all the bananas within h hours.\n",
    "\n",
    "\n",
    "### Example 1:\n",
    "\n",
    "Input: piles = [1,4,3,2], h = 9\n",
    "\n",
    "Output: 2\n",
    "Explanation: With an eating rate of 2, you can eat the bananas in 6 hours. With an eating rate of 1, you would need 10 hours to eat all the bananas (which exceeds h=9), thus the minimum eating rate is 2.\n",
    "\n",
    "\n",
    "### Example 2:\n",
    "\n",
    "Input: piles = [25,10,23,4], h = 4\n",
    "\n",
    "Output: 25"
   ]
  },
  {
   "cell_type": "code",
   "execution_count": 1,
   "metadata": {},
   "outputs": [],
   "source": [
    "import math\n",
    "\n",
    "def minEatingSpeed(piles: list[int], h: int) -> int:\n",
    "    l, r = 1, max(piles)\n",
    "    res = r\n",
    "\n",
    "    while l <= r:\n",
    "        k = (l + r) // 2\n",
    "\n",
    "        totalTime = 0\n",
    "        for p in piles:\n",
    "            totalTime += math.ceil(float(p) / k)\n",
    "        if totalTime <= h:\n",
    "            res = k\n",
    "            r = k - 1\n",
    "        else:\n",
    "            l = k + 1\n",
    "    return res"
   ]
  },
  {
   "cell_type": "code",
   "execution_count": 2,
   "metadata": {},
   "outputs": [
    {
     "data": {
      "text/plain": [
       "2"
      ]
     },
     "execution_count": 2,
     "metadata": {},
     "output_type": "execute_result"
    }
   ],
   "source": [
    "piles = [1, 4, 3, 2]\n",
    "h = 9\n",
    "\n",
    "minEatingSpeed(piles, h)"
   ]
  },
  {
   "cell_type": "code",
   "execution_count": 3,
   "metadata": {},
   "outputs": [
    {
     "data": {
      "text/plain": [
       "25"
      ]
     },
     "execution_count": 3,
     "metadata": {},
     "output_type": "execute_result"
    }
   ],
   "source": [
    "piles = [25, 10, 23, 4]\n",
    "h = 4\n",
    "\n",
    "minEatingSpeed(piles, h)"
   ]
  }
 ],
 "metadata": {
  "kernelspec": {
   "display_name": "base",
   "language": "python",
   "name": "python3"
  },
  "language_info": {
   "codemirror_mode": {
    "name": "ipython",
    "version": 3
   },
   "file_extension": ".py",
   "mimetype": "text/x-python",
   "name": "python",
   "nbconvert_exporter": "python",
   "pygments_lexer": "ipython3",
   "version": "3.11.4"
  }
 },
 "nbformat": 4,
 "nbformat_minor": 2
}
