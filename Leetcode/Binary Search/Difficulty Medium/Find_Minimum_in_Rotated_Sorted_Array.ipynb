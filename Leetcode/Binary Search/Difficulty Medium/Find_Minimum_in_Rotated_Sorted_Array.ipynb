{
 "cells": [
  {
   "cell_type": "markdown",
   "metadata": {
    "vscode": {
     "languageId": "plaintext"
    }
   },
   "source": [
    "You are given an array of length n which was originally sorted in ascending order. It has now been rotated between 1 and n times. For example, the array nums = [1,2,3,4,5,6] might become:\n",
    "\n",
    "[3,4,5,6,1,2] if it was rotated 4 times.\n",
    "\n",
    "[1,2,3,4,5,6] if it was rotated 6 times.\n",
    "\n",
    "Notice that rotating the array 4 times moves the last four elements of the array to the beginning. Rotating the array 6 times produces the original array.\n",
    "\n",
    "Assuming all elements in the rotated sorted array nums are unique, return the minimum element of this array.\n",
    "\n",
    "A solution that runs in O(n) time is trivial, can you write an algorithm that runs in O(log n) time?\n",
    "\n",
    "\n",
    "### Example 1:\n",
    "\n",
    "Input: nums = [3,4,5,6,1,2]\n",
    "\n",
    "Output: 1\n",
    "\n",
    "\n",
    "### Example 2:\n",
    "\n",
    "Input: nums = [4,5,0,1,2,3]\n",
    "\n",
    "Output: 0\n",
    "\n",
    "\n",
    "### Example 3:\n",
    "\n",
    "Input: nums = [4,5,6,7]\n",
    "\n",
    "Output: 4"
   ]
  },
  {
   "cell_type": "code",
   "execution_count": 1,
   "metadata": {},
   "outputs": [],
   "source": [
    "def findMin(nums: list[int]) -> int:\n",
    "    start, end = 0, len(nums) - 1\n",
    "    curr_min = float(\"inf\")\n",
    "\n",
    "    while start < end:\n",
    "        mid = start + (end - start) // 2\n",
    "        curr_min = min(curr_min, nums[mid])\n",
    "\n",
    "        if nums[mid] > nums[end]: #right has the min\n",
    "            start = mid + 1\n",
    "\n",
    "        else: # left has the min\n",
    "            end = mid - 1\n",
    "\n",
    "    return min(curr_min, nums[start])"
   ]
  },
  {
   "cell_type": "code",
   "execution_count": 2,
   "metadata": {},
   "outputs": [
    {
     "data": {
      "text/plain": [
       "1"
      ]
     },
     "execution_count": 2,
     "metadata": {},
     "output_type": "execute_result"
    }
   ],
   "source": [
    "nums = [3, 4, 5, 6, 1, 2]\n",
    "\n",
    "findMin(nums)"
   ]
  },
  {
   "cell_type": "code",
   "execution_count": 3,
   "metadata": {},
   "outputs": [
    {
     "data": {
      "text/plain": [
       "0"
      ]
     },
     "execution_count": 3,
     "metadata": {},
     "output_type": "execute_result"
    }
   ],
   "source": [
    "nums = [4, 5, 0, 1, 2, 3]\n",
    "\n",
    "findMin(nums)"
   ]
  },
  {
   "cell_type": "code",
   "execution_count": 4,
   "metadata": {},
   "outputs": [
    {
     "data": {
      "text/plain": [
       "4"
      ]
     },
     "execution_count": 4,
     "metadata": {},
     "output_type": "execute_result"
    }
   ],
   "source": [
    "nums = [4, 5, 6, 7]\n",
    "\n",
    "findMin(nums)"
   ]
  }
 ],
 "metadata": {
  "kernelspec": {
   "display_name": "base",
   "language": "python",
   "name": "python3"
  },
  "language_info": {
   "codemirror_mode": {
    "name": "ipython",
    "version": 3
   },
   "file_extension": ".py",
   "mimetype": "text/x-python",
   "name": "python",
   "nbconvert_exporter": "python",
   "pygments_lexer": "ipython3",
   "version": "3.11.4"
  }
 },
 "nbformat": 4,
 "nbformat_minor": 2
}
