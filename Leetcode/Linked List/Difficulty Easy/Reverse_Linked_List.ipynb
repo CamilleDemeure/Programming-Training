{
 "cells": [
  {
   "cell_type": "markdown",
   "id": "c5c25ac2",
   "metadata": {},
   "source": [
    "Given the beginning of a singly linked list head, reverse the list, and return the new beginning of the list.\n",
    "\n",
    "### Example 1:\n",
    "\n",
    "Input: head = [0,1,2,3]\n",
    "\n",
    "Output: [3,2,1,0]\n",
    "\n",
    "\n",
    "### Example 2:\n",
    "\n",
    "Input: head = []\n",
    "\n",
    "Output: []"
   ]
  },
  {
   "cell_type": "code",
   "execution_count": 11,
   "id": "028b2bb0",
   "metadata": {},
   "outputs": [],
   "source": [
    "class ListNode:\n",
    "    def __init__(self, val=0, next=None):\n",
    "        self.val = val\n",
    "        self.next = next\n",
    "\n",
    "\n",
    "def print_linked_list(head):\n",
    "    curr = head\n",
    "    while curr:\n",
    "        print(curr.val, end=\" -> \")\n",
    "        curr = curr.next\n",
    "    print(\"None\")\n",
    "\n",
    "\n",
    "def list_to_linked_list(values):\n",
    "    if not values:\n",
    "        return None\n",
    "    head = ListNode(values[0])\n",
    "    curr = head\n",
    "    for val in values[1:]:\n",
    "        curr.next = ListNode(val)\n",
    "        curr = curr.next\n",
    "    return head"
   ]
  },
  {
   "cell_type": "code",
   "execution_count": 12,
   "id": "060e5b78",
   "metadata": {},
   "outputs": [],
   "source": [
    "def reverseList(head: ListNode) -> ListNode:\n",
    "    prev, curr = None, head\n",
    "\n",
    "    while curr:\n",
    "        temp = curr.next\n",
    "        curr.next = prev\n",
    "        prev = curr\n",
    "        curr = temp\n",
    "    return prev"
   ]
  },
  {
   "cell_type": "code",
   "execution_count": 13,
   "id": "9490def8",
   "metadata": {},
   "outputs": [
    {
     "name": "stdout",
     "output_type": "stream",
     "text": [
      "0 -> 1 -> 2 -> 3 -> None\n"
     ]
    }
   ],
   "source": [
    "print_linked_list(list_to_linked_list([0,1,2,3]))"
   ]
  },
  {
   "cell_type": "code",
   "execution_count": 14,
   "id": "efc06718",
   "metadata": {},
   "outputs": [
    {
     "name": "stdout",
     "output_type": "stream",
     "text": [
      "3 -> 2 -> 1 -> 0 -> None\n"
     ]
    }
   ],
   "source": [
    "print_linked_list(reverseList(list_to_linked_list([0,1,2,3])))"
   ]
  },
  {
   "cell_type": "code",
   "execution_count": 15,
   "id": "29a6e1bd",
   "metadata": {},
   "outputs": [
    {
     "name": "stdout",
     "output_type": "stream",
     "text": [
      "None\n"
     ]
    }
   ],
   "source": [
    "print_linked_list(list_to_linked_list([]))"
   ]
  },
  {
   "cell_type": "code",
   "execution_count": 16,
   "id": "3ac974d5",
   "metadata": {},
   "outputs": [
    {
     "name": "stdout",
     "output_type": "stream",
     "text": [
      "None\n"
     ]
    }
   ],
   "source": [
    "print_linked_list(reverseList(list_to_linked_list([])))"
   ]
  }
 ],
 "metadata": {
  "kernelspec": {
   "display_name": "base",
   "language": "python",
   "name": "python3"
  },
  "language_info": {
   "codemirror_mode": {
    "name": "ipython",
    "version": 3
   },
   "file_extension": ".py",
   "mimetype": "text/x-python",
   "name": "python",
   "nbconvert_exporter": "python",
   "pygments_lexer": "ipython3",
   "version": "3.11.4"
  }
 },
 "nbformat": 4,
 "nbformat_minor": 5
}
