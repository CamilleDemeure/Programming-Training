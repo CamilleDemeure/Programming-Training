{
 "cells": [
  {
   "cell_type": "code",
   "execution_count": 1,
   "id": "644efa44",
   "metadata": {},
   "outputs": [],
   "source": [
    "import numpy as np\n",
    "\n",
    "# Constants\n",
    "T = 10_000\n",
    "m = np.array([90, 89, 80, 73, 50, 37, 31, 20, 17, 10], dtype=float)\n",
    "I = np.array([10, 8, 6, 4, 4, 3, 2, 2, 1, 1], dtype=float)\n",
    "\n",
    "# Objective function to minimize (negative of expected value)\n",
    "def objective(p):\n",
    "    value = 0.0\n",
    "    for i in range(len(p)):\n",
    "        if p[i] == 0:\n",
    "            continue  # to avoid division by zero\n",
    "        value += p[i] * (T * m[i]) / (I[i] + 100 * p[i])\n",
    "    return -value  # negate for maximization"
   ]
  },
  {
   "cell_type": "code",
   "execution_count": 6,
   "id": "0fd6c77c",
   "metadata": {},
   "outputs": [
    {
     "name": "stdout",
     "output_type": "stream",
     "text": [
      "Optimal probabilities:\n",
      "Container 1: 0.1982 and expected gain for the box: 5982.088583038732\n",
      "Container 2: 0.1852 and expected gain for the box: 6215.730750834823\n",
      "Container 3: 0.1578 and expected gain for the box: 5796.025617837805\n",
      "Container 4: 0.1299 and expected gain for the box: 5580.990049876624\n",
      "Container 5: 0.1006 and expected gain for the box: 3577.340179042441\n",
      "Container 6: 0.0747 and expected gain for the box: 2640.1437811224923\n",
      "Container 7: 0.0583 and expected gain for the box: 2307.8992245943446\n",
      "Container 8: 0.0429 and expected gain for the box: 1363.7706871371745\n",
      "Container 9: 0.0310 and expected gain for the box: 1285.2278338642163\n",
      "Container 10: 0.0214 and expected gain for the box: 681.88575740829\n",
      "\n",
      "Maximum expected value: 35431.10\n"
     ]
    }
   ],
   "source": [
    "import numpy as np\n",
    "from scipy.optimize import minimize\n",
    "\n",
    "# Constants\n",
    "T = 10_000\n",
    "m = np.array([90, 89, 80, 73, 50, 37, 31, 20, 17, 10], dtype=float)\n",
    "I = np.array([10, 8, 6, 4, 4, 3, 2, 2, 1, 1], dtype=float)\n",
    "n = len(m)\n",
    "\n",
    "# Objective function (negative of expected reward for minimization)\n",
    "def objective(p):\n",
    "    value = 0.0\n",
    "    for i in range(n):\n",
    "        if p[i] == 0:\n",
    "            continue  # avoid division by zero\n",
    "        value += p[i] * (T * m[i]) / (I[i] + 100 * p[i])\n",
    "    return -value  # negate for maximization\n",
    "\n",
    "def objective_i(p, i):\n",
    "    value = p[i] * (T * m[i]) / (I[i] + 100 * p[i])\n",
    "    return value\n",
    "\n",
    "\n",
    "# Constraint: probabilities sum to 1\n",
    "constraints = ({\n",
    "    'type': 'eq',\n",
    "    'fun': lambda p: np.sum(p) - 1\n",
    "})\n",
    "\n",
    "# Bounds: probabilities between 0 and 1\n",
    "bounds = [(0, 1) for _ in range(n)]\n",
    "\n",
    "# Initial guess: uniform distribution\n",
    "initial_guess = np.ones(n) / n\n",
    "\n",
    "# Optimization\n",
    "result = minimize(objective, initial_guess, method='SLSQP', bounds=bounds, constraints=constraints)\n",
    "\n",
    "# Output\n",
    "if result.success:\n",
    "    optimal_p = result.x\n",
    "    expected_value = -result.fun  # negate back to get actual expected value\n",
    "    print(\"Optimal probabilities:\")\n",
    "    for i, prob in enumerate(optimal_p):\n",
    "        print(f\"Container {i+1}: {prob:.4f} and expected gain for the box:\", objective_i(optimal_p, i))\n",
    "    print(f\"\\nMaximum expected value: {expected_value:.2f}\")\n",
    "else:\n",
    "    print(\"Optimization failed:\", result.message)\n"
   ]
  },
  {
   "cell_type": "code",
   "execution_count": null,
   "id": "78d5d979",
   "metadata": {},
   "outputs": [],
   "source": []
  }
 ],
 "metadata": {
  "kernelspec": {
   "display_name": "base",
   "language": "python",
   "name": "python3"
  },
  "language_info": {
   "codemirror_mode": {
    "name": "ipython",
    "version": 3
   },
   "file_extension": ".py",
   "mimetype": "text/x-python",
   "name": "python",
   "nbconvert_exporter": "python",
   "pygments_lexer": "ipython3",
   "version": "3.11.4"
  }
 },
 "nbformat": 4,
 "nbformat_minor": 5
}
