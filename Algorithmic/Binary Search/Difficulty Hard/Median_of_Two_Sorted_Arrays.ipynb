{
 "cells": [
  {
   "cell_type": "markdown",
   "metadata": {},
   "source": [
    "You are given two integer arrays nums1 and nums2 of size m and n respectively, where each is sorted in ascending order. Return the median value among all elements of the two arrays.\n",
    "\n",
    "Your solution must run in O(log(m+n)) time.\n",
    "\n",
    "\n",
    "### Example 1:\n",
    "\n",
    "Input: nums1 = [1,2], nums2 = [3]\n",
    "\n",
    "Output: 2.0\n",
    "\n",
    "#### Explanation: \n",
    "\n",
    "Among [1, 2, 3] the median is 2.\n",
    "\n",
    "\n",
    "### Example 2:\n",
    "\n",
    "Input: nums1 = [1,3], nums2 = [2,4]\n",
    "\n",
    "Output: 2.5\n",
    "\n",
    "#### Explanation: \n",
    "\n",
    "Among [1, 2, 3, 4] the median is (2 + 3) / 2 = 2.5."
   ]
  },
  {
   "cell_type": "code",
   "execution_count": 1,
   "metadata": {},
   "outputs": [],
   "source": [
    "def findMedianSortedArrays(nums1: list[int], nums2: list[int]) -> float:\n",
    "    A, B = nums1, nums2\n",
    "    total = len(nums1) + len(nums2)\n",
    "    half = total // 2\n",
    "\n",
    "    if len(B) < len(A):\n",
    "        A, B = B, A\n",
    "\n",
    "    l, r = 0, len(A) - 1\n",
    "    while True:\n",
    "        i = (l + r) // 2\n",
    "        j = half - i - 2\n",
    "\n",
    "        Aleft = A[i] if i >= 0 else float(\"-infinity\")\n",
    "        Aright = A[i + 1] if (i + 1) < len(A) else float(\"infinity\")\n",
    "        Bleft = B[j] if j >= 0 else float(\"-infinity\")\n",
    "        Bright = B[j + 1] if (j + 1) < len(B) else float(\"infinity\")\n",
    "\n",
    "        if Aleft <= Bright and Bleft <= Aright:\n",
    "            if total % 2:\n",
    "                return min(Aright, Bright)\n",
    "            return (max(Aleft, Bleft) + min(Aright, Bright)) / 2\n",
    "        elif Aleft > Bright:\n",
    "            r = i - 1\n",
    "        else:\n",
    "            l = i + 1"
   ]
  },
  {
   "cell_type": "code",
   "execution_count": 2,
   "metadata": {},
   "outputs": [
    {
     "data": {
      "text/plain": [
       "2"
      ]
     },
     "execution_count": 2,
     "metadata": {},
     "output_type": "execute_result"
    }
   ],
   "source": [
    "nums1 = [1, 2]\n",
    "nums2 = [3]\n",
    "\n",
    "findMedianSortedArrays(nums1, nums2)"
   ]
  },
  {
   "cell_type": "code",
   "execution_count": 4,
   "metadata": {},
   "outputs": [
    {
     "data": {
      "text/plain": [
       "2.5"
      ]
     },
     "execution_count": 4,
     "metadata": {},
     "output_type": "execute_result"
    }
   ],
   "source": [
    "nums1 = [1, 2]\n",
    "nums2 = [3, 4]\n",
    "\n",
    "findMedianSortedArrays(nums1, nums2)"
   ]
  }
 ],
 "metadata": {
  "kernelspec": {
   "display_name": "base",
   "language": "python",
   "name": "python3"
  },
  "language_info": {
   "codemirror_mode": {
    "name": "ipython",
    "version": 3
   },
   "file_extension": ".py",
   "mimetype": "text/x-python",
   "name": "python",
   "nbconvert_exporter": "python",
   "pygments_lexer": "ipython3",
   "version": "3.11.4"
  }
 },
 "nbformat": 4,
 "nbformat_minor": 2
}
