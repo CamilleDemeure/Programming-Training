{
 "cells": [
  {
   "cell_type": "markdown",
   "metadata": {},
   "source": [
    "You are given an array of strings tokens that represents a valid arithmetic expression in Reverse Polish Notation.\n",
    "\n",
    "Return the integer that represents the evaluation of the expression.\n",
    "\n",
    "The operands may be integers or the results of other operations.\n",
    "\n",
    "The operators include '+', '-', '*', and '/'.\n",
    "\n",
    "Assume that division between integers always truncates toward zero.\n",
    "\n",
    "### Example 1:\n",
    "\n",
    "Input: tokens = [\"1\",\"2\",\"+\",\"3\",\"*\",\"4\",\"-\"]\n",
    "\n",
    "Output: 5\n",
    "\n",
    "#### Explanation: ((1 + 2) * 3) - 4 = 5"
   ]
  },
  {
   "cell_type": "code",
   "execution_count": 1,
   "metadata": {},
   "outputs": [],
   "source": [
    "def evalRPN(tokens: list[str]) -> int:\n",
    "    stack = []\n",
    "    for c in tokens:\n",
    "        if c == \"+\":\n",
    "            stack.append(stack.pop() + stack.pop())\n",
    "        elif c == \"-\":\n",
    "            a, b = stack.pop(), stack.pop()\n",
    "            stack.append(b - a)\n",
    "        elif c == \"*\":\n",
    "            stack.append(stack.pop() * stack.pop())\n",
    "        elif c == \"/\":\n",
    "            a, b = stack.pop(), stack.pop()\n",
    "            stack.append(int(float(b) / a))\n",
    "        else:\n",
    "            stack.append(int(c))\n",
    "    return stack[0]"
   ]
  },
  {
   "cell_type": "code",
   "execution_count": 2,
   "metadata": {},
   "outputs": [
    {
     "data": {
      "text/plain": [
       "5"
      ]
     },
     "execution_count": 2,
     "metadata": {},
     "output_type": "execute_result"
    }
   ],
   "source": [
    "evalRPN([\"1\", \"2\", \"+\", \"3\", \"*\", \"4\", \"-\"])"
   ]
  }
 ],
 "metadata": {
  "kernelspec": {
   "display_name": "base",
   "language": "python",
   "name": "python3"
  },
  "language_info": {
   "codemirror_mode": {
    "name": "ipython",
    "version": 3
   },
   "file_extension": ".py",
   "mimetype": "text/x-python",
   "name": "python",
   "nbconvert_exporter": "python",
   "pygments_lexer": "ipython3",
   "version": "3.11.4"
  }
 },
 "nbformat": 4,
 "nbformat_minor": 2
}
