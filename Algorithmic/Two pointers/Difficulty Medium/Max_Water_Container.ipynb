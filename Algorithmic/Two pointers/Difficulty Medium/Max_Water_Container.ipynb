{
 "cells": [
  {
   "cell_type": "markdown",
   "metadata": {},
   "source": [
    "You are given an integer array heights where heights[i] represents the height of the i-th bar.\n",
    "\n",
    "You may choose any two bars to form a container. Return the maximum amount of water a container can store.\n",
    "\n",
    "### Example 1:\n",
    "\n",
    "Input: height = [1,7,2,5,4,7,3,6]\n",
    "\n",
    "Output: 36\n",
    "\n",
    "\n",
    "### Example 2:\n",
    "\n",
    "Input: height = [2,2,2]\n",
    "\n",
    "Output: 4"
   ]
  },
  {
   "cell_type": "code",
   "execution_count": 1,
   "metadata": {},
   "outputs": [],
   "source": [
    "def maxArea(heights: list[int]) -> int:\n",
    "    l, r = 0, len(heights) - 1\n",
    "    res = 0\n",
    "\n",
    "    while l < r:\n",
    "        area = min(heights[l], heights[r]) * (r - l)\n",
    "        res = max(res, area)\n",
    "        if heights[l] <= heights[r]:\n",
    "            l += 1\n",
    "        else:\n",
    "            r -= 1\n",
    "    return res"
   ]
  },
  {
   "cell_type": "code",
   "execution_count": 2,
   "metadata": {},
   "outputs": [
    {
     "data": {
      "text/plain": [
       "36"
      ]
     },
     "execution_count": 2,
     "metadata": {},
     "output_type": "execute_result"
    }
   ],
   "source": [
    "maxArea([1, 7, 2, 5, 4, 7, 3, 6])"
   ]
  },
  {
   "cell_type": "code",
   "execution_count": 3,
   "metadata": {},
   "outputs": [
    {
     "data": {
      "text/plain": [
       "4"
      ]
     },
     "execution_count": 3,
     "metadata": {},
     "output_type": "execute_result"
    }
   ],
   "source": [
    "maxArea([2, 2, 2])"
   ]
  }
 ],
 "metadata": {
  "kernelspec": {
   "display_name": "base",
   "language": "python",
   "name": "python3"
  },
  "language_info": {
   "codemirror_mode": {
    "name": "ipython",
    "version": 3
   },
   "file_extension": ".py",
   "mimetype": "text/x-python",
   "name": "python",
   "nbconvert_exporter": "python",
   "pygments_lexer": "ipython3",
   "version": "3.11.4"
  }
 },
 "nbformat": 4,
 "nbformat_minor": 2
}
