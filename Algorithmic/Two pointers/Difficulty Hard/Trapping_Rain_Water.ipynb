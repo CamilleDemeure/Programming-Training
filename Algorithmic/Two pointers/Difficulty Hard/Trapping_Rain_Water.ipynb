{
 "cells": [
  {
   "cell_type": "markdown",
   "metadata": {},
   "source": [
    "You are given an array non-negative integers heights which represent an elevation map. Each value heights[i] represents the height of a bar, which has a width of 1.\n",
    "\n",
    "Return the maximum area of water that can be trapped between the bars.\n",
    "\n",
    "\n",
    "### Example 1:\n",
    "\n",
    "Input: height = [0,2,0,3,1,0,1,3,2,1]\n",
    "\n",
    "Output: 9"
   ]
  },
  {
   "cell_type": "code",
   "execution_count": 1,
   "metadata": {},
   "outputs": [],
   "source": [
    "def trap(height: list[int]) -> int:\n",
    "    left, right = 0, len(height) - 1\n",
    "    innerheight = min(height[left], height[right])\n",
    "    res = 0\n",
    "\n",
    "    while left < right:\n",
    "        if height[left] <= height[right]:\n",
    "            left += 1\n",
    "            innerheight = max(innerheight, min(height[left], height[right]))\n",
    "            if innerheight > height[left]:\n",
    "                res += innerheight - height[left]\n",
    "        \n",
    "        else:\n",
    "            right -= 1\n",
    "            innerheight = max(innerheight, min(height[left], height[right]))\n",
    "            if innerheight > height[right]:\n",
    "                res += innerheight - height[right]\n",
    "    \n",
    "    return res"
   ]
  },
  {
   "cell_type": "code",
   "execution_count": 2,
   "metadata": {},
   "outputs": [
    {
     "data": {
      "text/plain": [
       "9"
      ]
     },
     "execution_count": 2,
     "metadata": {},
     "output_type": "execute_result"
    }
   ],
   "source": [
    "trap([0, 2, 0, 3, 1, 0, 1, 3, 2, 1])"
   ]
  }
 ],
 "metadata": {
  "kernelspec": {
   "display_name": "base",
   "language": "python",
   "name": "python3"
  },
  "language_info": {
   "codemirror_mode": {
    "name": "ipython",
    "version": 3
   },
   "file_extension": ".py",
   "mimetype": "text/x-python",
   "name": "python",
   "nbconvert_exporter": "python",
   "pygments_lexer": "ipython3",
   "version": "3.11.4"
  }
 },
 "nbformat": 4,
 "nbformat_minor": 2
}
